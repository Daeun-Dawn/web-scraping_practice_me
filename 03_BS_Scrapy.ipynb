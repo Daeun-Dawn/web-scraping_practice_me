{
 "cells": [
  {
   "cell_type": "markdown",
   "metadata": {},
   "source": [
    "# BeautifulSoup\n",
    "- html분석에서 원하는 정보를 손쉽게 가져올 수 있는 방법을 제공\n",
    "- 자동으로 인코딩하여 유니코드로 변환, UTF-8로 출력\n",
    "- lxml, html5lib 파서를 사용함\n",
    "\n",
    "# Scrapy\n",
    "- web scraper framework\n",
    "- 다양한 Selector 지원\n",
    "- 파이프라인\n",
    "- 로깅\n",
    "- 이메일"
   ]
  },
  {
   "cell_type": "code",
   "execution_count": null,
   "metadata": {},
   "outputs": [],
   "source": []
  }
 ],
 "metadata": {
  "kernelspec": {
   "display_name": "Python 3",
   "language": "python",
   "name": "python3"
  },
  "language_info": {
   "codemirror_mode": {
    "name": "ipython",
    "version": 3
   },
   "file_extension": ".py",
   "mimetype": "text/x-python",
   "name": "python",
   "nbconvert_exporter": "python",
   "pygments_lexer": "ipython3",
   "version": "3.7.1"
  }
 },
 "nbformat": 4,
 "nbformat_minor": 2
}
