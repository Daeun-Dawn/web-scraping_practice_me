{
 "cells": [
  {
   "cell_type": "markdown",
   "metadata": {},
   "source": [
    "# html 구조\n",
    "- 태그로 구성됨 : 시작/닫기태그/요소로 구성됨\n",
    "- html > head > body 로 구성됨\n",
    "- !DOCTYPE html은 가장 상위에 있는 태그임\n",
    "  - <!DOCTYPE html>\n",
    "  "
   ]
  },
  {
   "cell_type": "code",
   "execution_count": null,
   "metadata": {},
   "outputs": [],
   "source": []
  }
 ],
 "metadata": {
  "kernelspec": {
   "display_name": "Python 3",
   "language": "python",
   "name": "python3"
  },
  "language_info": {
   "codemirror_mode": {
    "name": "ipython",
    "version": 3
   },
   "file_extension": ".py",
   "mimetype": "text/x-python",
   "name": "python",
   "nbconvert_exporter": "python",
   "pygments_lexer": "ipython3",
   "version": "3.7.1"
  }
 },
 "nbformat": 4,
 "nbformat_minor": 2
}
