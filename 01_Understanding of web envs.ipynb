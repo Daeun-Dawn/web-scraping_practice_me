{
 "cells": [
  {
   "cell_type": "markdown",
   "metadata": {},
   "source": [
    "# 1. 웹 환경의 이해\n",
    "- server, client\n",
    "- http\n",
    "- request, response\n",
    "- frontend (html, css, javascript)\n",
    "- backend (web-server, db server, web-framework)"
   ]
  },
  {
   "cell_type": "markdown",
   "metadata": {},
   "source": [
    "## http\n",
    "- 인터넷 상에서 정보를 주고 받을 수 있는 통신규약(protocol)이다.\n",
    "- TCP, UDP통신을 통해 80번 포트로 접속한다.\n",
    "- Server-Client가 서로 주고받는 정보는 http 형태로 구성되어야 한다."
   ]
  },
  {
   "cell_type": "markdown",
   "metadata": {},
   "source": [
    "## Request, Response\n",
    "- Request : 서버로 요청\n",
    "  - Get : 정보를 가져오는 역할\n",
    "  - Post : 정보를 수정, 입력하는 역할 (회원가입 등 절차 진행 시 정해진 폼)\n",
    "- Response : 서버로부터의 응답\n",
    "  - html, javascript, css, image, etc."
   ]
  },
  {
   "cell_type": "markdown",
   "metadata": {},
   "source": [
    "## Frontend(HTML, css, javascript)\n",
    "- 사용자가 브라우저에서 정보를 보고, 웹 서버에서 특정 정보를 요청하기 위한 사전 작업을 수행\n",
    "- html\n",
    "  - 웹페이지를 구조적으로 나타내는 문서, 데이터\n",
    "- css\n",
    "  - html파일을 꾸미는 역할, 디자인\n",
    "- javascript\n",
    "  - 객체 기반의 스크립트 프로그래밍 언어, 사용자 편의성 보장, 동작"
   ]
  },
  {
   "cell_type": "markdown",
   "metadata": {},
   "source": [
    "## Backend (웹서버, DB서버, 웹프레임워크)\n",
    "- 사용자 요청을 받아 저장되어 있는 정보를 바탕으로 사용자에게 적합한 페이지를 전송\n",
    "  - 웹서버 (Apache, IIs, nginx, GWS, etc.)\n",
    "    - 사용자 요청에 맞게 데이터(HTML, image, etc)를 전송하는 프로그램\n",
    "  - 데이터베이스 (mysql, mssql, postgresql, lightsql, mongodb, etc)\n",
    "    - 사용자의 정보를 저장하는 저장소\n",
    "  - 스크립트 엔진(php, jsp, asp)\n",
    "    - 웹서버에서 사용자의 요청을 분석해주는 프로그램\n",
    "    \n",
    "    \n",
    "  - 웹프레임워크(Django, Ruby on Rails, ASP.NET, etc)\n",
    "    - 웹 개발을 보다 편리하게 만들어주는 도구\n",
    "    - 생산성 향상\n",
    "    - 정신건강에 좋으나 유행이 있음"
   ]
  }
 ],
 "metadata": {
  "kernelspec": {
   "display_name": "Python 3",
   "language": "python",
   "name": "python3"
  },
  "language_info": {
   "codemirror_mode": {
    "name": "ipython",
    "version": 3
   },
   "file_extension": ".py",
   "mimetype": "text/x-python",
   "name": "python",
   "nbconvert_exporter": "python",
   "pygments_lexer": "ipython3",
   "version": "3.7.1"
  }
 },
 "nbformat": 4,
 "nbformat_minor": 2
}
