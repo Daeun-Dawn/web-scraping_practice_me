{
 "cells": [
  {
   "cell_type": "markdown",
   "metadata": {},
   "source": [
    "# 목차\n",
    "- Ubuntu에서 python을 이용한 웹 크롤링 환경 구축\n",
    "- 홈페이지 구조 확인하기\n",
    "- Beautifulsoup & scrapy 소개\n",
    "- 간단한 웹 크롤링 소스코드 리뷰\n",
    "- CronTab을 이용한 스케쥴링"
   ]
  },
  {
   "cell_type": "markdown",
   "metadata": {},
   "source": [
    "## 크롤링 환경 구축\n",
    "- sudo apt-get update\n",
    "- sudo apt-get install build-essential\n",
    "- sudo apt-get install python-pip\n",
    "\n",
    "## 개발환경에 대한 패키지 정보를 캡슐화 하기 위해서 필요한 것..\n",
    "- 가상화\n",
    "- sudo pip install virtualenv virtualenvwrapper\n",
    "  - wrapper는 virtualenv의 명령어를 쉽게 사용할 수 있게 해주는 패키지임\n",
    "- 가상환경 설정을 해보자.\n",
    "  - vi .bashrc (bash 기본 셋팅이 저장된 파일)\n",
    "  - 맨 끝줄로 가서 아래 두 라인을 추가하고 저장한다.\n",
    "    - export WORKON_HOME=$HOME/.virtualenvs\n",
    "    - source /usr/local/bin/virtualenvwrapper.sh\n",
    "  - 그리고나서 source .bashrc 명령어를 입력한다. (.bashrc를 적용해줌)"
   ]
  },
  {
   "cell_type": "markdown",
   "metadata": {},
   "source": [
    "## 가상환경 만들어보기\n",
    "- mkvirtualenv virtualenv_name\n",
    "  - ex) mkvirtualenv dschic\n",
    "  - virtualenvs/dschic 경로에 가상환경이 생성됨\n",
    "- 가상환경에서 빠져나오려면 deactivate\n",
    "- 다시 사용하려 한다면 workon dschic"
   ]
  },
  {
   "cell_type": "markdown",
   "metadata": {},
   "source": [
    "## BeautifulSoup 설치\n",
    "- 선행 라이브러리 설치 sudo apt-get install libxml2-dev libslt-dev python-dev zliblg-dev\n",
    "- lxml 라이브러리 설치 pip install lxml\n",
    "- pip install beautifulsoup4\n",
    "\n",
    "## scrapy 설치\n",
    "- sudo apt-get install libffi-dev libssl-dev\n",
    "- pip install Scrapy"
   ]
  },
  {
   "cell_type": "code",
   "execution_count": null,
   "metadata": {},
   "outputs": [],
   "source": []
  }
 ],
 "metadata": {
  "kernelspec": {
   "display_name": "Python 3",
   "language": "python",
   "name": "python3"
  },
  "language_info": {
   "codemirror_mode": {
    "name": "ipython",
    "version": 3
   },
   "file_extension": ".py",
   "mimetype": "text/x-python",
   "name": "python",
   "nbconvert_exporter": "python",
   "pygments_lexer": "ipython3",
   "version": "3.7.1"
  }
 },
 "nbformat": 4,
 "nbformat_minor": 2
}
