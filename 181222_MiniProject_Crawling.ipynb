{
 "cells": [
  {
   "cell_type": "markdown",
   "metadata": {},
   "source": [
    "# Mini Project\n",
    "## Target\n",
    "  - domain : https://dart.fss.or.kr\n",
    "  - stock_name : 삼성전자\n",
    "  - article : 분기보고서(2018.09)\n",
    "  - area : 연결재무제표 > 연결현금흐름표 테이블의 모든 내용"
   ]
  },
  {
   "cell_type": "markdown",
   "metadata": {},
   "source": [
    "## 특이사항\n",
    "- 종목을 입력하여 게시글을 검색한 뒤, 클릭하면 팝업창 생성 \n",
    "<img src=\"./ref/mini_pj01.png\" width=400>"
   ]
  },
  {
   "cell_type": "markdown",
   "metadata": {},
   "source": [
    "- 문서목차와 목차에 대한 세부내용이 표시됨\n",
    "  - 이 때 세부내용은 iframe으로 구성되어 있음\n",
    "<img src=\"./ref/mini_pj02.png\" width=800>\n",
    "  - 목차에서 다른 내용을 선택하더라도 팝업창에 표시된 url은 변동 없음"
   ]
  },
  {
   "cell_type": "markdown",
   "metadata": {},
   "source": [
    "- 원하는 내용에 대한 html을 살펴보면 작동할만한 link url이 확인되지 않음\n",
    "  - 바로 상위에 있는 a태그의 href속성에 \"#\"값이 할당되어 있음\n",
    "<img src=\"./ref/mini_pj03.png\" width=800>\n"
   ]
  },
  {
   "cell_type": "markdown",
   "metadata": {},
   "source": [
    "- 원하는 곳에 마우스를 가져가면 아래와 같이 상위에 있는 div 태그의 클래스 값이 변경됨\n",
    "<img src=\"./ref/mini_pj04.png\" width=800>"
   ]
  },
  {
   "cell_type": "markdown",
   "metadata": {},
   "source": [
    "- 원하는 곳에 마우스를 가져가지 않으면 아래와 같이 상위에 있는 div 태그의 클래스 값이 변경됨\n",
    "<img src=\"./ref/mini_pj05.png\" width=800>"
   ]
  },
  {
   "cell_type": "markdown",
   "metadata": {},
   "source": [
    "- Element를 살펴보는 것으로는 어떻게 해야할지 모르겠고, 시간도 없으니..\n",
    "- 수업시간에 손쉬운 방법이라 들었던 API를 사용할 수 있는지 체크해보자."
   ]
  },
  {
   "cell_type": "markdown",
   "metadata": {},
   "source": [
    "- docs에 요소가 하나 감지되고, 해당내용은 바로 내가 원하는 페이지이다.\n",
    "<img src=\"./ref/mini_pj06.png\" width=800>"
   ]
  },
  {
   "cell_type": "markdown",
   "metadata": {},
   "source": [
    "- 그럼 해당 요소의 URL을 복사하고<br>\n",
    "<img src=\"./ref/mini_pj07.png\" width=800>"
   ]
  },
  {
   "cell_type": "markdown",
   "metadata": {},
   "source": [
    "- postman에 대입하여 원하는 내용이 제약없이 반환되는지 확인해보자.<br>\n",
    "  → 잘 반환되는 것을 확인할 수 있다.\n",
    "  - 또한, 총 6개의 파라미터가 존재하는 것을 확인할 수 있다. <br>\n",
    "    (rcpNo, dcmNo, eleId, offset, length, dtd)\n",
    "<img src=\"./ref/mini_pj08.png\" width=800>"
   ]
  },
  {
   "cell_type": "markdown",
   "metadata": {},
   "source": [
    "- 그렇다면 페이지 구성을 위해 사용하는 파라미터는 어디에서 오는 것인가?..\n",
    "- 혹시 팝업창을 띄울때 불러오는 Element에 있지는 않은가?.. 확인해보자."
   ]
  },
  {
   "cell_type": "markdown",
   "metadata": {},
   "source": [
    "# 찾고 찾아보니, 발견한 것 같다.\n",
    "- 팝업창을 띄울 때 넘어오는 html구문 속에 이미\n",
    "- 모든 목차의 내용을 끌고올 수 있도록 key, value값이 셋팅되어 있다.\n",
    "<img src=\"./ref/mini_pj09.png\" width=800> <br><br>\n",
    "- network에서 확인한 target element의 link url과 비교해보자. (내용이 동일하다.)\n",
    "- http://dart.fss.or.kr/report/viewer.do?rcpNo=20181114001530&dcmNo=6382016&eleId=13&offset=594590&length=94473&dtd=dart3.xsd\n"
   ]
  },
  {
   "cell_type": "markdown",
   "metadata": {},
   "source": [
    "# 위의 내용을 토대로 crawling 계획을 세워보면..\n",
    "1. http://dart.fss.or.kr 사이트로 접속\n",
    "2. 원하는 종목/보고서 종류를 선택하여 검색\n",
    "3. 검색한 내용에서 원하는 article을 선택 (팝업창 생성)\n",
    "4. 팝업창으로 들어온 html을 get\n",
    "5. html을 파싱하여 파라미터 값을 추출한다.\n",
    "6. 5에서 추출한 파라미터값과 domain을 조합하여 원하는 페이지로 이동한다.\n",
    "7. 이동한 웹페이지에서 원하는 영역을 추출하여 적재한다."
   ]
  },
  {
   "cell_type": "code",
   "execution_count": null,
   "metadata": {},
   "outputs": [],
   "source": []
  }
 ],
 "metadata": {
  "kernelspec": {
   "display_name": "Python 3",
   "language": "python",
   "name": "python3"
  },
  "language_info": {
   "codemirror_mode": {
    "name": "ipython",
    "version": 3
   },
   "file_extension": ".py",
   "mimetype": "text/x-python",
   "name": "python",
   "nbconvert_exporter": "python",
   "pygments_lexer": "ipython3",
   "version": "3.7.1"
  }
 },
 "nbformat": 4,
 "nbformat_minor": 2
}
