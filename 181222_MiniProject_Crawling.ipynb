{
 "cells": [
  {
   "cell_type": "markdown",
   "metadata": {},
   "source": [
    "# Mini Project\n",
    "## Target\n",
    "  - domain : https://dart.fss.or.kr\n",
    "  - stock_name : 삼성전자\n",
    "  - article : 분기보고서(2018.09)\n",
    "  - area : 연결재무제표 > 연결현금흐름표 테이블의 모든 내용"
   ]
  },
  {
   "cell_type": "markdown",
   "metadata": {},
   "source": [
    "## 특이사항\n",
    "- 종목을 입력하여 게시글을 검색한 뒤, 클릭하면 팝업창 생성"
   ]
  },
  {
   "cell_type": "markdown",
   "metadata": {},
   "source": [
    "<img src=\"./ref/mini_pj01.png\" width=\"800\">"
   ]
  },
  {
   "cell_type": "markdown",
   "metadata": {},
   "source": [
    "---\n",
    "- 팝업창에는 목차와 세부내용이 표시됨\n",
    "  - 세부내용은 iframe으로 구성되어 있음\n",
    "  - 목차에서 다른 내용을 선택하더라도 팝업창에 표시된 url은 변동 없음"
   ]
  },
  {
   "cell_type": "markdown",
   "metadata": {},
   "source": [
    "<img src=\"./ref/mini_pj02.png\" width=\"800\">"
   ]
  },
  {
   "cell_type": "markdown",
   "metadata": {},
   "source": [
    "---\n",
    "- 원하는 내용에 대한 html을 살펴보면 작동할만한 link url이 확인되지 않음\n",
    "  - 바로 상위에 있는 a태그의 href속성에 \"#\"값이 할당되어 있음"
   ]
  },
  {
   "cell_type": "markdown",
   "metadata": {},
   "source": [
    "<img src=\"./ref/mini_pj03.png\" width=\"800\">"
   ]
  },
  {
   "cell_type": "markdown",
   "metadata": {},
   "source": [
    "- 원하는 곳에 마우스를 가져가면 아래와 같이 상위에 있는 div 태그의 클래스 값이 변경됨"
   ]
  },
  {
   "cell_type": "markdown",
   "metadata": {},
   "source": [
    "<img src=\"./ref/mini_pj04.png\" width=\"800\">"
   ]
  },
  {
   "cell_type": "markdown",
   "metadata": {},
   "source": [
    "- 원하는 곳에 마우스를 가져가지 않으면 아래와 같이 상위에 있는 div 태그의 클래스 값이 변경됨"
   ]
  },
  {
   "cell_type": "markdown",
   "metadata": {},
   "source": [
    "<img src=\"./ref/mini_pj05.png\" width=\"800\">"
   ]
  },
  {
   "cell_type": "markdown",
   "metadata": {},
   "source": [
    "\n",
    "- Element를 살펴보는 것으로는 어떻게 해야할지 모르겠고, 시간도 없으니..\n",
    "- 수업시간에 손쉬운 방법이라 들었던 API를 사용할 수 있는지 체크해보자."
   ]
  },
  {
   "cell_type": "markdown",
   "metadata": {},
   "source": [
    "- docs에 요소가 하나 감지되고, 해당내용은 바로 내가 원하는 페이지이다."
   ]
  },
  {
   "cell_type": "markdown",
   "metadata": {},
   "source": [
    "<img src=\"./ref/mini_pj06.png\" width=\"800\">"
   ]
  },
  {
   "cell_type": "markdown",
   "metadata": {},
   "source": [
    "- 그럼 해당 요소의 URL을 복사하고"
   ]
  },
  {
   "cell_type": "markdown",
   "metadata": {},
   "source": [
    "<img src=\"./ref/mini_pj07.png\" width=\"800\">"
   ]
  },
  {
   "cell_type": "markdown",
   "metadata": {},
   "source": [
    "- postman에 대입하여 원하는 내용이 제약없이 반환되는지 확인해보자.<br>\n",
    "  → 잘 반환되는 것을 확인할 수 있다.\n",
    "  - 또한, 총 6개의 파라미터가 존재하는 것을 확인할 수 있다. <br>\n",
    "    (rcpNo, dcmNo, eleId, offset, length, dtd)<br>\n",
    "    (접수번호, "
   ]
  },
  {
   "cell_type": "markdown",
   "metadata": {},
   "source": [
    "<img src=\"./ref/mini_pj08.png\" width=\"800\">"
   ]
  },
  {
   "cell_type": "markdown",
   "metadata": {},
   "source": [
    "- 그렇다면 페이지 구성을 위해 사용하는 파라미터는 어디에서 오는 것인가?..\n",
    "- 혹시 팝업창을 띄울때 불러오는 Element에 있지는 않은가?.. 확인해보자."
   ]
  },
  {
   "cell_type": "markdown",
   "metadata": {},
   "source": [
    "# Find를 사용하여 찾아보니..\n",
    "- 팝업창을 띄울 때 넘어오는 html구문 속에 이미\n",
    "- 모든 목차의 내용을 끌고올 수 있도록 key, value값이 셋팅되어 있다."
   ]
  },
  {
   "cell_type": "markdown",
   "metadata": {},
   "source": [
    "<img src=\"./ref/mini_pj09.png\" width=\"800\">"
   ]
  },
  {
   "cell_type": "markdown",
   "metadata": {},
   "source": [
    "- network에서 확인한 target element의 link url과 비교해보자. (내용이 동일하다.)\n",
    "- http://dart.fss.or.kr/report/viewer.do?rcpNo=20181114001530&dcmNo=6382016&eleId=13&offset=594590&length=94473&dtd=dart3.xsd"
   ]
  },
  {
   "cell_type": "markdown",
   "metadata": {},
   "source": [
    "---\n",
    "# 위의 내용을 토대로 crawling 계획을 세워보면..\n",
    "1. http://dart.fss.or.kr 사이트로 접속\n",
    "2. 원하는 종목/보고서 종류를 선택하여 검색\n",
    "3. 검색한 내용에서 원하는 article을 선택 (팝업창 생성)\n",
    "4. 팝업창으로 들어온 html을 get\n",
    "5. html을 파싱하여 파라미터 값을 추출한다.\n",
    "6. 5에서 추출한 파라미터값과 domain을 조합하여 원하는 페이지로 이동한다.\n",
    "7. 이동한 웹페이지에서 원하는 영역을 추출하여 적재한다."
   ]
  },
  {
   "cell_type": "markdown",
   "metadata": {},
   "source": [
    "# Mini Projdct (최익창)\n",
    "\n",
    "\n",
    "## 주제 : 전자공시시스템 정기 보고서(사업/반기/분기보고서) 크롤링\n",
    "\n",
    "### 동기 : 관심기업의 공시 재무정보 추출을 통한 투자 기초자료 DB화\n",
    "\n",
    "### 사용한 라이브러리\n",
    "- selenium\n",
    "- requests\n",
    "- bs4"
   ]
  },
  {
   "cell_type": "code",
   "execution_count": null,
   "metadata": {},
   "outputs": [],
   "source": [
    "# Code Start"
   ]
  },
  {
   "cell_type": "code",
   "execution_count": null,
   "metadata": {},
   "outputs": [],
   "source": [
    "# Output"
   ]
  },
  {
   "cell_type": "markdown",
   "metadata": {},
   "source": [
    "## 느낀 점\n",
    "\n",
    "### 어려웠던 점\n",
    "1. Lorem Ipsum\n",
    "2. Lorem Ipsum\n",
    "3. Lorem Ipsum\n",
    "\n",
    "### 보완할 부분\n",
    "\n",
    "### 소감\n",
    "\n",
    "(더블클릭하시면 수정 가능합니다.)"
   ]
  },
  {
   "cell_type": "code",
   "execution_count": null,
   "metadata": {},
   "outputs": [],
   "source": []
  },
  {
   "cell_type": "code",
   "execution_count": 26,
   "metadata": {},
   "outputs": [],
   "source": [
    "# import modules\n",
    "from selenium import webdriver"
   ]
  },
  {
   "cell_type": "code",
   "execution_count": 27,
   "metadata": {},
   "outputs": [],
   "source": [
    "# chromedriver\n",
    "ch_driver = webdriver.Chrome(\"D://Anaconda3/chromedriver.exe\")"
   ]
  },
  {
   "cell_type": "code",
   "execution_count": 28,
   "metadata": {},
   "outputs": [],
   "source": [
    "# get the url\n",
    "domain = \"https://dart.fss.or.kr\"\n",
    "ch_driver.get(domain)"
   ]
  },
  {
   "cell_type": "code",
   "execution_count": 29,
   "metadata": {},
   "outputs": [],
   "source": [
    "# input the stock name\n",
    "stock_name = \"삼성전자\"\n",
    "input_box = ch_driver.find_element_by_id(\"textCrpNm\")\n",
    "input_box.send_keys(stock_name)"
   ]
  },
  {
   "cell_type": "code",
   "execution_count": 30,
   "metadata": {},
   "outputs": [],
   "source": [
    "# 정기공시 유형모음 버튼 확장\n",
    "ch_driver.find_element_by_id(\"publicTypeButton_01\").click()"
   ]
  },
  {
   "cell_type": "code",
   "execution_count": 31,
   "metadata": {},
   "outputs": [],
   "source": [
    "# 사업보고서(publicType1), 반기보고서(publicType2), 분기보고서 선택(publicType3)\n",
    "for i in range(1, 3+1):\n",
    "    element = ch_driver.find_element_by_id(\"publicType{report_num}\".format(report_num=i))\n",
    "    element.click()"
   ]
  },
  {
   "cell_type": "code",
   "execution_count": 32,
   "metadata": {},
   "outputs": [],
   "source": [
    "# 검색시작일 설정\n",
    "start_date = 20180101\n",
    "start_date_box = ch_driver.find_element_by_id(\"startDate\")\n",
    "start_date_box.clear()\n",
    "start_date_box.send_keys(start_date)\n",
    "\n",
    "# 입력한 값이 없습니다. 오류 창 팝업 시 해제하기\n",
    "# ch_driver.find_element_by_xpath('//*[@id=\"ext-comp-1016\"]/tbody/tr/td[2]').click()"
   ]
  },
  {
   "cell_type": "code",
   "execution_count": 33,
   "metadata": {},
   "outputs": [],
   "source": [
    "# 검색종료일 설정\n",
    "end_date = 20181220\n",
    "end_date_box = ch_driver.find_element_by_id(\"endDate\")\n",
    "end_date_box.clear()\n",
    "end_date_box.send_keys(end_date)"
   ]
  },
  {
   "cell_type": "code",
   "execution_count": 34,
   "metadata": {},
   "outputs": [],
   "source": [
    "# click the search button\n",
    "search_btn_xpath = '//*[@id=\"searchForm\"]/fieldset/p[4]/input'\n",
    "search_btn = ch_driver.find_element_by_xpath(search_btn_xpath)\n",
    "search_btn.click()"
   ]
  },
  {
   "cell_type": "code",
   "execution_count": 35,
   "metadata": {},
   "outputs": [],
   "source": [
    "# 보고서 목록 가져오기\n",
    "articles_xpath = '//*[@id=\"listContents\"]/div[1]/table/tbody/tr'\n",
    "article_elements = ch_driver.find_elements_by_xpath(articles_xpath)"
   ]
  },
  {
   "cell_type": "code",
   "execution_count": 37,
   "metadata": {},
   "outputs": [
    {
     "name": "stdout",
     "output_type": "stream",
     "text": [
      "http://dart.fss.or.kr/dsaf001/main.do?rcpNo=20181114001530\n",
      "http://dart.fss.or.kr/dsaf001/main.do?rcpNo=20180814001113\n",
      "http://dart.fss.or.kr/dsaf001/main.do?rcpNo=20180515001699\n",
      "http://dart.fss.or.kr/dsaf001/main.do?rcpNo=20180402005019\n"
     ]
    }
   ],
   "source": [
    "# 보고서 목록에서 보고서 링크 추출하기\n",
    "report_links = []\n",
    "for content in article_elements:\n",
    "    print(content.find_elements_by_tag_name('a')[-1].get_attribute('href'))\n",
    "    report_links.append(content.find_elements_by_tag_name('a')[-1].get_attribute('href'))"
   ]
  },
  {
   "cell_type": "code",
   "execution_count": 38,
   "metadata": {},
   "outputs": [
    {
     "data": {
      "text/plain": [
       "['http://dart.fss.or.kr/dsaf001/main.do?rcpNo=20181114001530',\n",
       " 'http://dart.fss.or.kr/dsaf001/main.do?rcpNo=20180814001113',\n",
       " 'http://dart.fss.or.kr/dsaf001/main.do?rcpNo=20180515001699',\n",
       " 'http://dart.fss.or.kr/dsaf001/main.do?rcpNo=20180402005019']"
      ]
     },
     "execution_count": 38,
     "metadata": {},
     "output_type": "execute_result"
    }
   ],
   "source": [
    "report_links"
   ]
  },
  {
   "cell_type": "code",
   "execution_count": 40,
   "metadata": {},
   "outputs": [],
   "source": [
    "# 첫번째 리포트 호출\n",
    "ch_driver.get(report_links[0])"
   ]
  },
  {
   "cell_type": "code",
   "execution_count": 41,
   "metadata": {},
   "outputs": [],
   "source": [
    "# 첫번째 리포트에서 연결재무제표 페이지로 전환\n",
    "ch_driver.find_element_by_partial_link_text(\"2. 연결재무제표\").click()"
   ]
  },
  {
   "cell_type": "code",
   "execution_count": 42,
   "metadata": {},
   "outputs": [],
   "source": [
    "# 내용을 담고 있는 iframe의 xpath 추출\n",
    "iframe = ch_driver.find_element_by_xpath('//*[@id=\"ifrm\"]')"
   ]
  },
  {
   "cell_type": "code",
   "execution_count": 43,
   "metadata": {},
   "outputs": [],
   "source": [
    "# switch frame을 통한 iframe 접근\n",
    "ch_driver.switch_to.frame(iframe)"
   ]
  },
  {
   "cell_type": "code",
   "execution_count": null,
   "metadata": {},
   "outputs": [],
   "source": []
  }
 ],
 "metadata": {
  "kernelspec": {
   "display_name": "Python 3",
   "language": "python",
   "name": "python3"
  },
  "language_info": {
   "codemirror_mode": {
    "name": "ipython",
    "version": 3
   },
   "file_extension": ".py",
   "mimetype": "text/x-python",
   "name": "python",
   "nbconvert_exporter": "python",
   "pygments_lexer": "ipython3",
   "version": "3.6.5"
  }
 },
 "nbformat": 4,
 "nbformat_minor": 2
}
