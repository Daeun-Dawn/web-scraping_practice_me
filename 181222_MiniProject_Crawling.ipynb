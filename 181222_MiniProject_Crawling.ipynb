{
 "cells": [
  {
   "cell_type": "markdown",
   "metadata": {},
   "source": [
    "# Mini Projdct (최익창)\n",
    "\n",
    "\n",
    "## 주제 : 전자공시시스템 정기 보고서(사업/반기/분기보고서) 크롤링\n",
    "- 대상기간 : 2018.01.01~2018.12.20\n",
    "- 보고서종류 : 사업보고서, 분기보고서, 반기보고서\n",
    "- domain : https://dart.fss.or.kr\n",
    "  - stock_name : 삼성전자\n",
    "  - area : 연결재무제표 > 연결현금흐름표 테이블의 모든 내용\n",
    "\n",
    "### 동기 : 관심기업의 공시 재무정보 추출을 통한 투자 기초자료 DB화\n",
    "\n",
    "### 사용한 라이브러리\n",
    "- selenium"
   ]
  },
  {
   "cell_type": "code",
   "execution_count": null,
   "metadata": {},
   "outputs": [],
   "source": [
    "# Code Start"
   ]
  },
  {
   "cell_type": "code",
   "execution_count": 1,
   "metadata": {},
   "outputs": [],
   "source": [
    "# import module\n",
    "from selenium import webdriver\n",
    "\n",
    "# execute chromedriver\n",
    "ch_driver = webdriver.Chrome(\"C://Python37/chromedriver.exe\")"
   ]
  },
  {
   "cell_type": "code",
   "execution_count": 2,
   "metadata": {},
   "outputs": [],
   "source": [
    "# open domain webpage\n",
    "domain = \"https://dart.fss.or.kr\"\n",
    "ch_driver.get(domain)"
   ]
  },
  {
   "cell_type": "code",
   "execution_count": 3,
   "metadata": {},
   "outputs": [],
   "source": [
    "# input the target stock name in search box\n",
    "stock_name = \"삼성전자\"\n",
    "input_box = ch_driver.find_element_by_id(\"textCrpNm\")\n",
    "input_box.send_keys(stock_name)"
   ]
  },
  {
   "cell_type": "code",
   "execution_count": 4,
   "metadata": {},
   "outputs": [],
   "source": [
    "# 정기공시 유형모음 버튼 확장\n",
    "ch_driver.find_element_by_id(\"publicTypeButton_01\").click()"
   ]
  },
  {
   "cell_type": "code",
   "execution_count": 5,
   "metadata": {},
   "outputs": [],
   "source": [
    "# 사업보고서(publicType1), 반기보고서(publicType2), 분기보고서 선택(publicType3)\n",
    "for i in range(1, 3+1):\n",
    "    element = ch_driver.find_element_by_id(\"publicType{report_num}\".format(report_num=i))\n",
    "    element.click()"
   ]
  },
  {
   "cell_type": "code",
   "execution_count": 6,
   "metadata": {},
   "outputs": [],
   "source": [
    "# set start_date\n",
    "start_date = 20180101\n",
    "start_date_box = ch_driver.find_element_by_id(\"startDate\")\n",
    "start_date_box.clear()\n",
    "start_date_box.send_keys(start_date)"
   ]
  },
  {
   "cell_type": "code",
   "execution_count": 7,
   "metadata": {},
   "outputs": [],
   "source": [
    "# set end_date\n",
    "end_date = 20181220\n",
    "end_date_box = ch_driver.find_element_by_id(\"endDate\")\n",
    "end_date_box.clear()\n",
    "end_date_box.send_keys(end_date)"
   ]
  },
  {
   "cell_type": "code",
   "execution_count": 8,
   "metadata": {},
   "outputs": [],
   "source": [
    "# click the search button\n",
    "search_btn_xpath = '//*[@id=\"searchForm\"]/fieldset/p[4]/input'\n",
    "search_btn = ch_driver.find_element_by_xpath(search_btn_xpath)\n",
    "search_btn.click()"
   ]
  },
  {
   "cell_type": "code",
   "execution_count": 9,
   "metadata": {},
   "outputs": [],
   "source": [
    "# get the report elements\n",
    "articles_xpath = '//*[@id=\"listContents\"]/div[1]/table/tbody/tr'\n",
    "article_elements = ch_driver.find_elements_by_xpath(articles_xpath)"
   ]
  },
  {
   "cell_type": "code",
   "execution_count": 10,
   "metadata": {},
   "outputs": [
    {
     "name": "stdout",
     "output_type": "stream",
     "text": [
      "http://dart.fss.or.kr/dsaf001/main.do?rcpNo=20181114001530\n",
      "http://dart.fss.or.kr/dsaf001/main.do?rcpNo=20180814001113\n",
      "http://dart.fss.or.kr/dsaf001/main.do?rcpNo=20180515001699\n",
      "http://dart.fss.or.kr/dsaf001/main.do?rcpNo=20180402005019\n"
     ]
    }
   ],
   "source": [
    "# extract report urls from report elements\n",
    "report_links = []\n",
    "for content in article_elements:\n",
    "    print(content.find_elements_by_tag_name('a')[-1].get_attribute('href'))\n",
    "    report_links.append(content.find_elements_by_tag_name('a')[-1].get_attribute('href'))"
   ]
  },
  {
   "cell_type": "markdown",
   "metadata": {},
   "source": [
    "<img align=\"left\" src=\"./ref/mini_pj10.png\" width=\"600\">"
   ]
  },
  {
   "cell_type": "code",
   "execution_count": 11,
   "metadata": {},
   "outputs": [],
   "source": [
    "# set result report repos as number of links\n",
    "result_list = [[]*i for i in range(len(report_links))]\n",
    "\n",
    "# declear funtion(num_converter)\n",
    "def num_converter(x):\n",
    "    return int(x.replace(\",\", \"\").replace(\")\", \"\").replace(\"(\", \"-\"))\n",
    "\n",
    "# get the target data from each report\n",
    "for link in report_links:\n",
    "    # get the report index\n",
    "    link_index = report_links.index(link)\n",
    "    # get the report @ link\n",
    "    ch_driver.get(link) \n",
    "    # 연결재무제표 페이지로 접근\n",
    "    ch_driver.find_element_by_partial_link_text(\"2. 연결재무제표\").click()\n",
    "    # 연결재무제표 값을 갖고 있는 iframe으로 접근\n",
    "    iframe = ch_driver.find_element_by_xpath('//*[@id=\"ifrm\"]')\n",
    "    ch_driver.switch_to.frame(iframe)\n",
    "    # 현금흐름표 헤더 element 및 text 추출\n",
    "    cashflow_header_xpath = '/html/body/table[not(@class=\"nb\")][position()=last()]/thead/tr/th'\n",
    "    cashflow_header = ch_driver.find_elements_by_xpath(cashflow_header_xpath)\n",
    "    header_list = []\n",
    "    for header in cashflow_header:\n",
    "        header_list.append(header.text)\n",
    "    # 현금흐름표 본문 추출(1) : tr element 추출\n",
    "    cashflow_infos_xpath = '/html/body/table[not(@class=\"nb\")][position()=last()]/tbody/tr'\n",
    "    cashflow_infos = ch_driver.find_elements_by_xpath(cashflow_infos_xpath)\n",
    "    cashflow_info_list = []\n",
    "    # 현금흐름표 본문 추출(2) : tr 내 td element 추출\n",
    "    for item in cashflow_infos:\n",
    "        cashflow_infos_tds = item.find_elements_by_tag_name(\"td\")\n",
    "        temp_tds_list = []\n",
    "    # 현금흐름표 본문 추출(3) : td element의 text 추출 > 값이 없으면 0으로 처리, 숫자형 문자는 int로 변환    \n",
    "        for td in cashflow_infos_tds:\n",
    "            temp_value = \"0\" if td.text == '' else td.text\n",
    "            temp_tds_list.append(temp_value)\n",
    "        temp_tds_list[1:] = list(map(num_converter, temp_tds_list[1:]))\n",
    "        cashflow_info_list.append(temp_tds_list) \n",
    "    result_list[link_index].append(header_list)\n",
    "    result_list[link_index].append(cashflow_info_list)"
   ]
  },
  {
   "cell_type": "markdown",
   "metadata": {},
   "source": [
    "<img align=\"left\" src=\"./ref/mini_pj11.png\" width=\"600\">"
   ]
  },
  {
   "cell_type": "code",
   "execution_count": 214,
   "metadata": {},
   "outputs": [
    {
     "data": {
      "text/plain": [
       "[[['', '제 50 기 3분기', '제 49 기 3분기'],\n",
       "  [['영업활동 현금흐름', 44603783, 40470495],\n",
       "   ['영업에서 창출된 현금흐름', 53748492, 44949562],\n",
       "   ['당기순이익', 35882671, 29931616],\n",
       "   ['조정', 34137314, 26755486],\n",
       "   ['영업활동으로 인한 자산부채의 변동', -16271493, -11737540],\n",
       "   ['이자의 수취', 1273834, 1314082],\n",
       "   ['이자의 지급', -367706, -421908],\n",
       "   ['배당금 수입', 187765, 145706],\n",
       "   ['법인세 납부액', -10238602, -5516947],\n",
       "   ['투자활동 현금흐름', -36477265, -31057350],\n",
       "   ['단기금융상품의 순(증가)감소', -9026701, 11124497],\n",
       "   ['단기매도가능금융자산의 순증가', 0, -144767],\n",
       "   ['단기상각후원가금융자산의 순증가', -337625, 0],\n",
       "   ['장기금융상품의 처분', 254855, 49326],\n",
       "   ['장기금융상품의 취득', -2782949, -780287],\n",
       "   ['장기매도가능금융자산의 처분', 0, 177804],\n",
       "   ['장기매도가능금융자산의 취득', 0, -218976],\n",
       "   ['상각후원가금융자산의 취득', -158716, 0],\n",
       "   ['기타포괄손익-공정가치금융자산의 처분', 9789, 0],\n",
       "   ['기타포괄손익-공정가치금융자산의 취득', -417447, 0],\n",
       "   ['당기손익-공정가치금융자산의 처분', 49283, 0],\n",
       "   ['당기손익-공정가치금융자산의 취득', -124002, 0],\n",
       "   ['관계기업 및 공동기업 투자의 처분', 148, 356608],\n",
       "   ['관계기업 및 공동기업 투자의 취득', -17564, -19510],\n",
       "   ['유형자산의 처분', 392768, 137230],\n",
       "   ['유형자산의 취득', -23715834, -32355245],\n",
       "   ['무형자산의 처분', 10004, 945],\n",
       "   ['무형자산의 취득', -676612, -595846],\n",
       "   ['사업결합으로 인한 현금유출액', -30463, -8673260],\n",
       "   ['현금의 기타유출입', 93801, -115869],\n",
       "   ['재무활동 현금흐름', -5689077, -10444988],\n",
       "   ['단기차입금의 순증가', 3198153, 1823920],\n",
       "   ['자기주식의 취득', -875111, -6317621],\n",
       "   ['사채 및 장기차입금의 차입', 3474, 976842],\n",
       "   ['사채 및 장기차입금의 상환', -270317, -1139177],\n",
       "   ['배당금 지급', -7748461, -5806602],\n",
       "   ['비지배지분의 증감', 3185, 17650],\n",
       "   ['외화환산으로 인한 현금의 변동', 105522, -291373],\n",
       "   ['현금 및 현금성자산의 증가(감소)', 2542963, -1323216],\n",
       "   ['기초 현금 및 현금성자산', 30545130, 32111442],\n",
       "   ['기말 현금 및 현금성자산', 33088093, 30788226]]],\n",
       " [['', '제 50 기 반기', '제 49 기 반기'],\n",
       "  [['영업활동 현금흐름', 29054126, 23023433],\n",
       "   ['영업에서 창출된 현금흐름', 36297976, 26735306],\n",
       "   ['당기순이익', 22731956, 18738205],\n",
       "   ['조정', 21907443, 16849218],\n",
       "   ['영업활동으로 인한 자산부채의 변동', -8341423, -8852117],\n",
       "   ['이자의 수취', 779529, 855926],\n",
       "   ['이자의 지급', -208024, -234578],\n",
       "   ['배당금 수입', 156669, 116632],\n",
       "   ['법인세 납부액', -7972024, -4449853],\n",
       "   ['투자활동 현금흐름', -19555075, -16102722],\n",
       "   ['단기금융상품의 순감소', 1212089, 14228691],\n",
       "   ['단기매도가능금융자산의 처분', 0, 141491],\n",
       "   ['단기상각후원가금융자산의 취득', -617411, 0],\n",
       "   ['장기금융상품의 처분', 116265, 18427],\n",
       "   ['장기금융상품의 취득', -1571571, -632632],\n",
       "   ['장기매도가능금융자산의 처분', 0, 158960],\n",
       "   ['장기매도가능금융자산의 취득', 0, -149752],\n",
       "   ['상각후원가금융자산의 취득', -158716, 0],\n",
       "   ['기타포괄손익-공정가치금융자산의 처분', 2230, 0],\n",
       "   ['기타포괄손익-공정가치금융자산의 취득', -317963, 0],\n",
       "   ['당기손익-공정가치금융자산의 처분', 33536, 0],\n",
       "   ['당기손익-공정가치금융자산의 취득', -78004, 0],\n",
       "   ['관계기업 및 공동기업 투자의 처분', 148, 356087],\n",
       "   ['관계기업 및 공동기업 투자의 취득', -17137, -12850],\n",
       "   ['유형자산의 처분', 318599, 74551],\n",
       "   ['유형자산의 취득', -18102717, -21144265],\n",
       "   ['무형자산의 처분', 10004, 889],\n",
       "   ['무형자산의 취득', -477055, -410758],\n",
       "   ['사업결합으로 인한 현금유출액', -19140, -8624973],\n",
       "   ['현금의 기타유출입', 111768, -106588],\n",
       "   ['재무활동 현금흐름', -9320446, -9171406],\n",
       "   ['단기차입금의 순(감소)증가', -2845304, 289091],\n",
       "   ['자기주식의 취득', -875111, -4214232],\n",
       "   ['사채 및 장기차입금의 차입', 3410, 692445],\n",
       "   ['사채 및 장기차입금의 상환', -267750, -1121754],\n",
       "   ['배당금 지급', -5338747, -4823973],\n",
       "   ['비지배지분의 증감', 3056, 7017],\n",
       "   ['외화환산으로 인한 현금의 변동', 638487, -853661],\n",
       "   ['현금 및 현금성자산의 증가(감소)', 817092, -3104356],\n",
       "   ['기초 현금 및 현금성자산', 30545130, 32111442],\n",
       "   ['기말 현금 및 현금성자산', 31362222, 29007086]]],\n",
       " [['', '제 50 기 1분기', '제 49 기 1분기'],\n",
       "  [['영업활동 현금흐름', 15616352, 10597271],\n",
       "   ['영업에서 창출된 현금흐름', 16026531, 12382781],\n",
       "   ['당기순이익', 11688544, 7684354],\n",
       "   ['조정', 11140508, 7909512],\n",
       "   ['영업활동으로 인한 자산부채의 변동', -6802521, -3211085],\n",
       "   ['이자의 수취', 331422, 378987],\n",
       "   ['이자의 지급', -89829, -92981],\n",
       "   ['배당금 수입', 28754, 27227],\n",
       "   ['법인세 납부액', -680526, -2098743],\n",
       "   ['투자활동 현금흐름', -7373336, -8165139],\n",
       "   ['단기금융상품의 순감소(증가)', 3472296, 10082810],\n",
       "   ['단기매도가능금융자산의 취득', 0, -544463],\n",
       "   ['매도가능금융자산의 처분', -411752, 0],\n",
       "   ['장기금융상품의 처분', 84373, 10153],\n",
       "   ['장기금융상품의 취득', -455778, -86835],\n",
       "   ['장기매도가능금융자산의 처분', 0, 53041],\n",
       "   ['장기매도가능금융자산의 취득', 0, -28847],\n",
       "   ['상각후원가금융자산의 취득', -158716, 0],\n",
       "   ['기타포괄손익-공정가치금융자산의 처분', 2083, 0],\n",
       "   ['기타포괄손익-공정가치금융자산의 취득', -31911, 0],\n",
       "   ['당기손익-공정가치금융자산의 처분', 9968, 0],\n",
       "   ['당기손익-공저가치금융자산의 취득', -34587, 0],\n",
       "   ['관계기업 및 공동기업 투자의 처분', 148, 76522],\n",
       "   ['관계기업 및 공동기업 투자의 취득', -17137, -4160],\n",
       "   ['유형자산의 처분', 200057, 35250],\n",
       "   ['유형자산의 취득', -9818105, -8901692],\n",
       "   ['무형자산의 처분', 5272, 47],\n",
       "   ['무형자산의 취득', -234228, -171098],\n",
       "   ['사업결합으로 인한 현금유출액', -14721, -8624973],\n",
       "   ['현금의 기타유출입', 29402, -60894],\n",
       "   ['재무활동 현금흐름', -6929313, -5188892],\n",
       "   ['단기차입금의 순증가(감소)', -5793171, -3575834],\n",
       "   ['자기주식의 취득', -875111, -2045795],\n",
       "   ['사채 및 장기차입금의 차입', 3157, 434803],\n",
       "   ['사채 및 장기차입금의 상환', -264947, -2042],\n",
       "   ['배당금 지급', -3272, -218],\n",
       "   ['비지배지분의 증감', 4031, 194],\n",
       "   ['외화환산으로 인한 현금의 변동', 444919, -1791744],\n",
       "   ['현금 및 현금성자산의 순증가(감소)', 1758622, -4548504],\n",
       "   ['기초 현금 및 현금성자산', 30545130, 32111442],\n",
       "   ['기말 현금 및 현금성자산', 32303752, 27562938]]],\n",
       " [['', '제 49 기', '제 48 기', '제 47 기'],\n",
       "  [['영업활동 현금흐름', 62162041, 47385644, 40061761],\n",
       "   ['영업에서 창출된 현금흐름', 67777432, 52299610, 43989083],\n",
       "   ['당기순이익', 42186747, 22726092, 19060144],\n",
       "   ['조정', 36211232, 30754471, 29610971],\n",
       "   ['영업활동으로 인한 자산부채의 변동', -10620547, -1180953, -4682032],\n",
       "   ['이자의 수취', 1581117, 1405085, 2151741],\n",
       "   ['이자의 지급', -542715, -443838, -748256],\n",
       "   ['배당금 수입', 173305, 256851, 266369],\n",
       "   ['법인세 납부액', -6827098, -6132064, -5597176],\n",
       "   ['투자활동 현금흐름', -49385216, -29658675, -27167787],\n",
       "   ['단기금융상품의 순감소(증가)', 387627, -6780610, -5762783],\n",
       "   ['단기매도가능금융자산의 처분', 499856, 3010003, 2143384],\n",
       "   ['단기매도가능금융자산의 취득', 0, -2129551, -509349],\n",
       "   ['장기금융상품의 처분', 1750221, 789862, 3999710],\n",
       "   ['장기금융상품의 취득', -1079355, -1741547, -132733],\n",
       "   ['장기매도가능금융자산의 처분', 191826, 2010356, 200502],\n",
       "   ['장기매도가능금융자산의 취득', -358497, -1498148, -232530],\n",
       "   ['만기보유금융자산의 취득', -106751, 0, 0],\n",
       "   ['관계기업 및 공동기업 투자의 처분', 355926, 2280203, 278009],\n",
       "   ['관계기업 및 공동기업 투자의 취득', -25293, -84306, -137917],\n",
       "   ['유형자산의 처분', 308354, 270874, 357154],\n",
       "   ['유형자산의 취득', -42792234, -24142973, -25880222],\n",
       "   ['무형자산의 처분', 733, 6944, 1083],\n",
       "   ['무형자산의 취득', -983740, -1047668, -1501881],\n",
       "   ['사업결합으로 인한 현금유출액', -8754268, -622050, -411445],\n",
       "   ['사업양도로 인한 현금유입액', 1248834, 0, 0],\n",
       "   ['현금의 기타유출입', -28455, 19936, 421231],\n",
       "   ['재무활동 현금흐름', -12560867, -8669514, -6573509],\n",
       "   ['단기차입금의 순증가(감소)', 2730676, 1351037, 3202416],\n",
       "   ['자기주식의 취득', -8350424, -7707938, -5015112],\n",
       "   ['자기주식의 처분', 0, 0, 3034],\n",
       "   ['사채 및 장기차입금의 차입', 998311, 1041743, 192474],\n",
       "   ['사채 및 장기차입금의 상환', -1140803, -252846, -1801465],\n",
       "   ['배당금 지급', -6804297, -3114742, -3129544],\n",
       "   ['비지배지분의 증감', 5670, 13232, -25312],\n",
       "   ['환율변동효과 반영전 현금및현금성자산의 순증가(감소)', 215958, 9057455, 6320465],\n",
       "   ['외화환산으로 인한 현금의 변동', -1782270, 417243, -524487],\n",
       "   ['현금 및 현금성자산의 순증가(감소)', -1566312, 9474698, 5795978],\n",
       "   ['기초 현금 및 현금성자산', 32111442, 22636744, 16840766],\n",
       "   ['기말 현금 및 현금성자산', 30545130, 32111442, 22636744]]]]"
      ]
     },
     "execution_count": 214,
     "metadata": {},
     "output_type": "execute_result"
    }
   ],
   "source": [
    "# output\n",
    "result_list"
   ]
  },
  {
   "cell_type": "markdown",
   "metadata": {},
   "source": [
    "## 느낀 점\n",
    "\n",
    "### 어려웠던 점\n",
    "1. 페이지마다 크롤링 대상 xpath가 일정하지 않은 경우 어떻게 원하는 데이터를 끌고 올 수 있는가? 패턴찾기가 어려웠음\n",
    "2. 패턴을 찾아도 어떻게 표현할 수 있는지 알아가는 과정이 쉽지 않았음\n",
    "\n",
    "### 보완할 부분\n",
    "1. selenium만 사용하여 크롤링을 하다 보니, 속도 이슈가 발생한다.\n",
    "2. 보완하기 위해 api를 통한 크롤링을 검토해보는 것이 좋겠다.\n",
    "   - 수많은 종목의 모든 보고서데이터를 DB화 하기 위해서..\n",
    "\n",
    "### 소감\n",
    "1. selenium만 사용하다보니 하나하나 클릭하며 목표에 접근할 때의 성취감\n",
    "2. 구조가 서로 다른 여러문서를 크롤링을 통한 패턴찾기의 즐거움(?)\n",
    "3. Trial and Error, Googling의 즐거움(?)"
   ]
  },
  {
   "cell_type": "markdown",
   "metadata": {},
   "source": [
    "---\n",
    "## 특이사항\n",
    "- 종목을 입력하여 게시글을 검색한 뒤, 클릭하면 팝업창 생성"
   ]
  },
  {
   "cell_type": "markdown",
   "metadata": {},
   "source": [
    "<img src=\"./ref/mini_pj01.png\" width=\"800\">"
   ]
  },
  {
   "cell_type": "markdown",
   "metadata": {},
   "source": [
    "---\n",
    "- 팝업창에는 목차와 세부내용이 표시됨\n",
    "  - 세부내용은 iframe으로 구성되어 있음\n",
    "  - 목차에서 다른 내용을 선택하더라도 팝업창에 표시된 url은 변동 없음"
   ]
  },
  {
   "cell_type": "markdown",
   "metadata": {},
   "source": [
    "<img src=\"./ref/mini_pj02.png\" width=\"800\">"
   ]
  },
  {
   "cell_type": "markdown",
   "metadata": {},
   "source": [
    "- API를 사용할 수 있는지 체크해보자.\n",
    "- docs에 요소가 하나 감지되고, 해당내용은 바로 내가 원하는 페이지이다."
   ]
  },
  {
   "cell_type": "markdown",
   "metadata": {},
   "source": [
    "<img src=\"./ref/mini_pj06.png\" width=\"800\">"
   ]
  },
  {
   "cell_type": "markdown",
   "metadata": {},
   "source": [
    "- 그럼 해당 요소의 URL을 복사하고"
   ]
  },
  {
   "cell_type": "markdown",
   "metadata": {},
   "source": [
    "<img src=\"./ref/mini_pj07.png\" width=\"800\">"
   ]
  },
  {
   "cell_type": "markdown",
   "metadata": {},
   "source": [
    "- postman에 대입하여 원하는 내용이 제약없이 반환되는지 확인해보자.<br>\n",
    "  → 잘 반환되는 것을 확인할 수 있다.\n",
    "  - 또한, 총 6개의 파라미터가 존재하는 것을 확인할 수 있다. <br>\n",
    "    (rcpNo, dcmNo, eleId, offset, length, dtd)<br>"
   ]
  },
  {
   "cell_type": "markdown",
   "metadata": {},
   "source": [
    "<img src=\"./ref/mini_pj08.png\" width=\"800\">"
   ]
  },
  {
   "cell_type": "markdown",
   "metadata": {},
   "source": [
    "- 그렇다면 페이지 구성을 위해 사용하는 파라미터는 어디에서 오는 것인가?..\n",
    "- 혹시 팝업창을 띄울때 불러오는 Element에 있지는 않은가?.. 확인해보자."
   ]
  },
  {
   "cell_type": "markdown",
   "metadata": {},
   "source": [
    "# Find를 사용하여 찾아보니..\n",
    "- 팝업창을 띄울 때 넘어오는 html구문 속에 이미\n",
    "- 모든 목차의 내용을 끌고올 수 있도록 key, value값이 셋팅되어 있다."
   ]
  },
  {
   "cell_type": "markdown",
   "metadata": {},
   "source": [
    "<img src=\"./ref/mini_pj09.png\" width=\"800\">"
   ]
  },
  {
   "cell_type": "markdown",
   "metadata": {},
   "source": [
    "- network에서 확인한 target element의 link url과 비교해보자. (내용이 동일하다.)\n",
    "- http://dart.fss.or.kr/report/viewer.do?rcpNo=20181114001530&dcmNo=6382016&eleId=13&offset=594590&length=94473&dtd=dart3.xsd <br><br>\n",
    "- selenium으로 진행했을 때의 단점(페이지 하나씩 브라우징에 따른 속도 이슈) 감안 시 <br>\n",
    "  다량의 데이터를 crawling한다면 api를 이용하는 방법이 더 적합한 것으로 보인다."
   ]
  }
 ],
 "metadata": {
  "kernelspec": {
   "display_name": "Python 3",
   "language": "python",
   "name": "python3"
  },
  "language_info": {
   "codemirror_mode": {
    "name": "ipython",
    "version": 3
   },
   "file_extension": ".py",
   "mimetype": "text/x-python",
   "name": "python",
   "nbconvert_exporter": "python",
   "pygments_lexer": "ipython3",
   "version": "3.7.1"
  }
 },
 "nbformat": 4,
 "nbformat_minor": 2
}
