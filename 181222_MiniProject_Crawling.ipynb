{
 "cells": [
  {
   "cell_type": "markdown",
   "metadata": {},
   "source": [
    "# Mini Projdct (최익창)\n",
    "\n",
    "\n",
    "## 주제 : 전자공시시스템 정기 보고서(사업/반기/분기보고서) 크롤링\n",
    "- 대상기간 : 2018.01.01~2018.12.20\n",
    "- 보고서종류 : 사업보고서, 분기보고서, 반기보고서\n",
    "- domain : https://dart.fss.or.kr\n",
    "  - stock_name : 삼성전자\n",
    "  - area : 연결재무제표 > 연결현금흐름표 테이블의 모든 내용\n",
    "\n",
    "### 동기 : 관심기업의 공시 재무정보 추출을 통한 투자 기초자료 DB화\n",
    "\n",
    "### 사용한 라이브러리\n",
    "- selenium"
   ]
  },
  {
   "cell_type": "code",
   "execution_count": 2,
   "metadata": {},
   "outputs": [],
   "source": [
    "# Code Start"
   ]
  },
  {
   "cell_type": "code",
   "execution_count": 3,
   "metadata": {},
   "outputs": [],
   "source": [
    "# import module\n",
    "from selenium import webdriver\n",
    "\n",
    "# execute chromedriver\n",
    "ch_driver = webdriver.Chrome(\"C://Python37/chromedriver.exe\")"
   ]
  },
  {
   "cell_type": "code",
   "execution_count": 4,
   "metadata": {},
   "outputs": [],
   "source": [
    "# open domain webpage\n",
    "domain = \"https://dart.fss.or.kr\"\n",
    "ch_driver.get(domain)"
   ]
  },
  {
   "cell_type": "code",
   "execution_count": 5,
   "metadata": {},
   "outputs": [],
   "source": [
    "# input the target stock name in search box\n",
    "stock_name = \"삼성전자\"\n",
    "input_box = ch_driver.find_element_by_id(\"textCrpNm\")\n",
    "input_box.send_keys(stock_name)"
   ]
  },
  {
   "cell_type": "code",
   "execution_count": 6,
   "metadata": {},
   "outputs": [],
   "source": [
    "# 정기공시 유형모음 버튼 확장\n",
    "ch_driver.find_element_by_id(\"publicTypeButton_01\").click()"
   ]
  },
  {
   "cell_type": "code",
   "execution_count": 7,
   "metadata": {},
   "outputs": [],
   "source": [
    "# 사업보고서(publicType1), 반기보고서(publicType2), 분기보고서 선택(publicType3)\n",
    "for i in range(1, 3+1):\n",
    "    element = ch_driver.find_element_by_id(\"publicType{report_num}\".format(report_num=i))\n",
    "    element.click()"
   ]
  },
  {
   "cell_type": "code",
   "execution_count": 8,
   "metadata": {},
   "outputs": [],
   "source": [
    "# set start_date\n",
    "start_date = 20180101\n",
    "start_date_box = ch_driver.find_element_by_id(\"startDate\")\n",
    "start_date_box.clear()\n",
    "start_date_box.send_keys(start_date)"
   ]
  },
  {
   "cell_type": "code",
   "execution_count": 9,
   "metadata": {},
   "outputs": [],
   "source": [
    "# set end_date\n",
    "end_date = 20181220\n",
    "end_date_box = ch_driver.find_element_by_id(\"endDate\")\n",
    "end_date_box.clear()\n",
    "end_date_box.send_keys(end_date)"
   ]
  },
  {
   "cell_type": "code",
   "execution_count": 10,
   "metadata": {},
   "outputs": [],
   "source": [
    "# click the search button\n",
    "search_btn_xpath = '//*[@id=\"searchForm\"]/fieldset/p[4]/input'\n",
    "search_btn = ch_driver.find_element_by_xpath(search_btn_xpath)\n",
    "search_btn.click()"
   ]
  },
  {
   "cell_type": "code",
   "execution_count": 11,
   "metadata": {},
   "outputs": [],
   "source": [
    "# get the report elements\n",
    "articles_xpath = '//*[@id=\"listContents\"]/div[1]/table/tbody/tr'\n",
    "article_elements = ch_driver.find_elements_by_xpath(articles_xpath)"
   ]
  },
  {
   "cell_type": "code",
   "execution_count": 12,
   "metadata": {},
   "outputs": [
    {
     "name": "stdout",
     "output_type": "stream",
     "text": [
      "http://dart.fss.or.kr/dsaf001/main.do?rcpNo=20181114001530\n",
      "http://dart.fss.or.kr/dsaf001/main.do?rcpNo=20180814001113\n",
      "http://dart.fss.or.kr/dsaf001/main.do?rcpNo=20180515001699\n",
      "http://dart.fss.or.kr/dsaf001/main.do?rcpNo=20180402005019\n"
     ]
    }
   ],
   "source": [
    "# extract report urls from report elements\n",
    "report_links = []\n",
    "for content in article_elements:\n",
    "    print(content.find_elements_by_tag_name('a')[-1].get_attribute('href'))\n",
    "    report_links.append(content.find_elements_by_tag_name('a')[-1].get_attribute('href'))"
   ]
  },
  {
   "cell_type": "markdown",
   "metadata": {},
   "source": [
    "<img align=\"left\" src=\"./ref/mini_pj10.png\" width=\"600\">"
   ]
  },
  {
   "cell_type": "code",
   "execution_count": 13,
   "metadata": {},
   "outputs": [],
   "source": [
    "# set result report repos as number of links\n",
    "result_list = [[]*i for i in range(len(report_links))]\n",
    "\n",
    "# declear funtion(num_converter)\n",
    "def num_converter(x):\n",
    "    return int(x.replace(\",\", \"\").replace(\")\", \"\").replace(\"(\", \"-\"))\n",
    "\n",
    "# get the target data from each report\n",
    "for link in report_links:\n",
    "    # get the report index\n",
    "    link_index = report_links.index(link)\n",
    "    # get the report @ link\n",
    "    ch_driver.get(link) \n",
    "    # 연결재무제표 페이지로 접근\n",
    "    ch_driver.find_element_by_partial_link_text(\"2. 연결재무제표\").click()\n",
    "    # 연결재무제표 값을 갖고 있는 iframe으로 접근\n",
    "    iframe = ch_driver.find_element_by_xpath('//*[@id=\"ifrm\"]')\n",
    "    ch_driver.switch_to.frame(iframe)\n",
    "    # 현금흐름표 헤더 element 및 text 추출\n",
    "    cashflow_header_xpath = '/html/body/table[not(@class=\"nb\")][position()=last()]/thead/tr/th'\n",
    "    cashflow_header = ch_driver.find_elements_by_xpath(cashflow_header_xpath)\n",
    "    header_list = []\n",
    "    for header in cashflow_header:\n",
    "        header_list.append(header.text)\n",
    "    # 현금흐름표 본문 추출(1) : tr element 추출\n",
    "    cashflow_infos_xpath = '/html/body/table[not(@class=\"nb\")][position()=last()]/tbody/tr'\n",
    "    cashflow_infos = ch_driver.find_elements_by_xpath(cashflow_infos_xpath)\n",
    "    cashflow_info_list = []\n",
    "    # 현금흐름표 본문 추출(2) : tr 내 td element 추출\n",
    "    for item in cashflow_infos:\n",
    "        cashflow_infos_tds = item.find_elements_by_tag_name(\"td\")\n",
    "        temp_tds_list = []\n",
    "    # 현금흐름표 본문 추출(3) : td element의 text 추출 > 값이 없으면 0으로 처리, 숫자형 문자는 int로 변환    \n",
    "        for td in cashflow_infos_tds:\n",
    "            temp_value = \"0\" if td.text == '' else td.text\n",
    "            temp_tds_list.append(temp_value)\n",
    "        temp_tds_list[1:] = list(map(num_converter, temp_tds_list[1:]))\n",
    "        cashflow_info_list.append(temp_tds_list) \n",
    "    result_list[link_index].append(header_list)\n",
    "    result_list[link_index].append(cashflow_info_list)"
   ]
  },
  {
   "cell_type": "markdown",
   "metadata": {},
   "source": [
    "<img align=\"left\" src=\"./ref/mini_pj11.png\" width=\"600\">"
   ]
  },
  {
   "cell_type": "code",
   "execution_count": 24,
   "metadata": {},
   "outputs": [
    {
     "data": {
      "text/plain": [
       "['당기순이익', 35882671, 29931616]"
      ]
     },
     "execution_count": 24,
     "metadata": {},
     "output_type": "execute_result"
    }
   ],
   "source": [
    "# output\n",
    "result_list[0][1][2]"
   ]
  },
  {
   "cell_type": "markdown",
   "metadata": {},
   "source": [
    "## 느낀 점\n",
    "\n",
    "### 어려웠던 점\n",
    "1. 페이지마다 크롤링 대상 xpath가 일정하지 않은 경우 어떻게 원하는 데이터를 끌고 올 수 있는가? 패턴찾기가 어려웠음\n",
    "2. 패턴을 찾아도 어떻게 표현할 수 있는지 알아가는 과정이 쉽지 않았음\n",
    "\n",
    "### 보완할 부분\n",
    "1. selenium만 사용하여 크롤링을 하다 보니, 속도 이슈가 발생한다.\n",
    "2. 보완하기 위해 api를 통한 크롤링을 검토해보는 것이 좋겠다.\n",
    "   - 수많은 종목의 모든 보고서데이터를 DB화 하기 위해서..\n",
    "\n",
    "### 소감\n",
    "1. selenium만 사용하다보니 하나하나 클릭하며 목표에 접근할 때의 성취감\n",
    "2. 구조가 서로 다른 여러문서를 크롤링을 통한 패턴찾기의 즐거움(?)\n",
    "3. Trial and Error, Googling의 즐거움(?)"
   ]
  },
  {
   "cell_type": "markdown",
   "metadata": {},
   "source": [
    "---\n",
    "## 특이사항\n",
    "- 종목을 입력하여 게시글을 검색한 뒤, 클릭하면 팝업창 생성"
   ]
  },
  {
   "cell_type": "markdown",
   "metadata": {},
   "source": [
    "<img src=\"./ref/mini_pj01.png\" width=\"800\">"
   ]
  },
  {
   "cell_type": "markdown",
   "metadata": {},
   "source": [
    "---\n",
    "- 팝업창에는 목차와 세부내용이 표시됨\n",
    "  - 세부내용은 iframe으로 구성되어 있음\n",
    "  - 목차에서 다른 내용을 선택하더라도 팝업창에 표시된 url은 변동 없음"
   ]
  },
  {
   "cell_type": "markdown",
   "metadata": {},
   "source": [
    "<img src=\"./ref/mini_pj02.png\" width=\"800\">"
   ]
  },
  {
   "cell_type": "markdown",
   "metadata": {},
   "source": [
    "- API를 사용할 수 있는지 체크해보자.\n",
    "- docs에 요소가 하나 감지되고, 해당내용은 바로 내가 원하는 페이지이다."
   ]
  },
  {
   "cell_type": "markdown",
   "metadata": {},
   "source": [
    "<img src=\"./ref/mini_pj06.png\" width=\"800\">"
   ]
  },
  {
   "cell_type": "markdown",
   "metadata": {},
   "source": [
    "- 그럼 해당 요소의 URL을 복사하고"
   ]
  },
  {
   "cell_type": "markdown",
   "metadata": {},
   "source": [
    "<img src=\"./ref/mini_pj07.png\" width=\"800\">"
   ]
  },
  {
   "cell_type": "markdown",
   "metadata": {},
   "source": [
    "- postman에 대입하여 원하는 내용이 제약없이 반환되는지 확인해보자.<br>\n",
    "  → 잘 반환되는 것을 확인할 수 있다.\n",
    "  - 또한, 총 6개의 파라미터가 존재하는 것을 확인할 수 있다. <br>\n",
    "    (rcpNo, dcmNo, eleId, offset, length, dtd)<br>"
   ]
  },
  {
   "cell_type": "markdown",
   "metadata": {},
   "source": [
    "<img src=\"./ref/mini_pj08.png\" width=\"800\">"
   ]
  },
  {
   "cell_type": "markdown",
   "metadata": {},
   "source": [
    "- 그렇다면 페이지 구성을 위해 사용하는 파라미터는 어디에서 오는 것인가?..\n",
    "- 혹시 팝업창을 띄울때 불러오는 Element에 있지는 않은가?.. 확인해보자."
   ]
  },
  {
   "cell_type": "markdown",
   "metadata": {},
   "source": [
    "# Find를 사용하여 찾아보니..\n",
    "- 팝업창을 띄울 때 넘어오는 html구문 속에 이미\n",
    "- 모든 목차의 내용을 끌고올 수 있도록 key, value값이 셋팅되어 있다."
   ]
  },
  {
   "cell_type": "markdown",
   "metadata": {},
   "source": [
    "<img src=\"./ref/mini_pj09.png\" width=\"800\">"
   ]
  },
  {
   "cell_type": "markdown",
   "metadata": {},
   "source": [
    "- network에서 확인한 target element의 link url과 비교해보자. (내용이 동일하다.)\n",
    "- http://dart.fss.or.kr/report/viewer.do?rcpNo=20181114001530&dcmNo=6382016&eleId=13&offset=594590&length=94473&dtd=dart3.xsd <br><br>\n",
    "- selenium으로 진행했을 때의 단점(페이지 하나씩 브라우징에 따른 속도 이슈) 감안 시 <br>\n",
    "  다량의 데이터를 crawling한다면 api를 이용하는 방법이 더 적합한 것으로 보인다."
   ]
  }
 ],
 "metadata": {
  "kernelspec": {
   "display_name": "Python 3",
   "language": "python",
   "name": "python3"
  },
  "language_info": {
   "codemirror_mode": {
    "name": "ipython",
    "version": 3
   },
   "file_extension": ".py",
   "mimetype": "text/x-python",
   "name": "python",
   "nbconvert_exporter": "python",
   "pygments_lexer": "ipython3",
   "version": "3.7.1"
  }
 },
 "nbformat": 4,
 "nbformat_minor": 2
}
